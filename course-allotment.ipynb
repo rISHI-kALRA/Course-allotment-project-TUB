{
 "cells": [
  {
   "cell_type": "code",
   "execution_count": null,
   "id": "bd887e49",
   "metadata": {},
   "outputs": [],
   "source": [
    "from ortools.sat.python import cp_model\n",
    "import numpy as np\n",
    "\n",
    "model = cp_model.CpModel()"
   ]
  },
  {
   "cell_type": "code",
   "execution_count": 2,
   "id": "ec45e181",
   "metadata": {},
   "outputs": [],
   "source": [
    "def compute_values(male_count,female_count):\n",
    "    total_count = male_count+female_count\n",
    "    y = (6-(total_count%6))%6 # no of 5 membered groups\n",
    "    x = (male_count+female_count-5*y)/6 # no of 6 membered groups\n",
    "    x1 = y # groups with 1 female and 4 males\n",
    "    x3 = female_count-x-x1 # 1 female 5 males\n",
    "    x2 = x-x3 # 2 females 4 males\n",
    "    return x1, x2, x3\n",
    "    "
   ]
  },
  {
   "cell_type": "code",
   "execution_count": null,
   "id": "1bdb4ef1",
   "metadata": {},
   "outputs": [],
   "source": [
    "num_projects = 6\n",
    "student_count = 1325\n",
    "female_count = 261\n",
    "male_count = 1064\n",
    "\n",
    "class Student:\n",
    "    def _init_(self,rollnum,name,department,cpi,gender,preferences:list, groups):\n",
    "        self.rollnum = rollnum\n",
    "        self.name = name\n",
    "        self.department = department\n",
    "        self.cpi = cpi\n",
    "        self.gender = gender # 0 if male, 1 if female (might add more later ;)\n",
    "        self.preferences = [preferences[g.type] for g in groups]\n",
    "        self.alpha = [model.new_bool_var(f\"alpha_{self.rollnum}_{i}\") for i in range(len(groups))]\n",
    "        \n",
    "        \n",
    "class Project:\n",
    "    def __init__(self,id,type,male_count,female_count):\n",
    "        self.id = id # serial number\n",
    "        self.type = type\n",
    "        self.male_count = male_count\n",
    "        self.female_count = female_count\n",
    "        "
   ]
  },
  {
   "cell_type": "code",
   "execution_count": null,
   "id": "952d103a",
   "metadata": {},
   "outputs": [],
   "source": [
    "def generate_nodes(x1, x2, x3):\n",
    "    groups = []\n",
    "    id=0\n",
    "    for i in range(x1):\n",
    "        groups.append(Project(id,i%num_projects,4,1))\n",
    "        id+=1\n",
    "    \n",
    "    for i in range(x2):\n",
    "        groups.append(Project(id,i%num_projects,4,2))\n",
    "        id+=1\n",
    "    \n",
    "    for i in range(x3):\n",
    "        groups.append(Project(id,i%num_projects,5,1))\n",
    "        id+=1\n",
    "    \n",
    "    return groups\n",
    "        "
   ]
  },
  {
   "cell_type": "code",
   "execution_count": null,
   "id": "e9e6ac14",
   "metadata": {},
   "outputs": [],
   "source": []
  }
 ],
 "metadata": {
  "kernelspec": {
   "display_name": "rishienv",
   "language": "python",
   "name": "rishienv"
  },
  "language_info": {
   "codemirror_mode": {
    "name": "ipython",
    "version": 3
   },
   "file_extension": ".py",
   "mimetype": "text/x-python",
   "name": "python",
   "nbconvert_exporter": "python",
   "pygments_lexer": "ipython3",
   "version": "3.12.3"
  }
 },
 "nbformat": 4,
 "nbformat_minor": 5
}
